{
  "nbformat": 4,
  "nbformat_minor": 2,
  "metadata": {
    "colab": {
      "provenance": []
    },
    "kernelspec": {
      "name": "python3",
      "display_name": "Python 3.10.2 64-bit"
    },
    "language_info": {
      "name": "python",
      "version": "3.10.2",
      "mimetype": "text/x-python",
      "codemirror_mode": {
        "name": "ipython",
        "version": 3
      },
      "pygments_lexer": "ipython3",
      "nbconvert_exporter": "python",
      "file_extension": ".py"
    },
    "interpreter": {
      "hash": "dec6e7e8f64ced5f4e790f0dd686c2a01b44f7a0982da332c39ef7f3342a74cd"
    }
  },
  "cells": [
    {
      "cell_type": "code",
      "execution_count": 1,
      "source": [
        "import random\r\n",
        "\r\n",
        "# Define the problem parameters\r\n",
        "secret_word = #your word\r\n",
        "word_length = len(secret_word)\r\n",
        "population_size = 50\r\n",
        "generations = #set it yourself \r\n",
        "\r\n",
        "# Create the initial population\r\n",
        "population = []\r\n",
        "for i in range(population_size):\r\n",
        "    individual = ''.join(random.choice('abcdefghijklmnopqrstuvwxyz') for j in range(word_length))\r\n",
        "    population.append(individual)\r\n",
        "\r\n",
        "# Define the fitness function\r\n",
        "def fitness(individual):\r\n",
        "    # Your Code Here\r\n",
        "\r\n",
        "\r\n",
        "    return score\r\n",
        "\r\n",
        "# Define the selection function\r\n",
        "def selection(population):\r\n",
        "    # Your Code Here\r\n",
        "\r\n",
        "\r\n",
        "    return parents\r\n",
        "\r\n",
        "# Define the crossover function\r\n",
        "def crossover(parents):\r\n",
        "    # Your Code Here\r\n",
        "\r\n",
        "\r\n",
        "    return child1, child2\r\n",
        "\r\n",
        "# Define the mutation function\r\n",
        "def mutation(individual, probability):\r\n",
        "    individual_list = list(individual)\r\n",
        "    for i in range(word_length):\r\n",
        "        if random.random() < probability:\r\n",
        "            individual_list[i] = random.choice('abcdefghijklmnopqrstuvwxyz')\r\n",
        "    return ''.join(individual_list)\r\n",
        "\r\n",
        "# Run the genetic algorithm\r\n",
        "for generation in range(generations):\r\n",
        "    print(f\"Generation {generation+1}\")\r\n",
        "    # Selection\r\n",
        "    new_population = []\r\n",
        "    for i in range(population_size//2):\r\n",
        "        parents = selection(population)\r\n",
        "        # Crossover\r\n",
        "        child1, child2 = crossover(parents)\r\n",
        "        # Mutation\r\n",
        "        child1 = mutation(child1, 0.1)\r\n",
        "        child2 = mutation(child2, 0.1)\r\n",
        "        new_population.append(child1)\r\n",
        "        new_population.append(child2)\r\n",
        "\r\n",
        "    new_population[0] = max(population, key=fitness)\r\n",
        "    population = new_population\r\n",
        "    \r\n",
        "    # Print the best individual\r\n",
        "    best_individual = max(population, key=fitness)\r\n",
        "    print(f\"Best individual: {best_individual}\")\r\n",
        "    if best_individual == secret_word:\r\n",
        "        print(\"Solution found!\")\r\n",
        "        break"
      ],
      "outputs": [
        {
          "output_type": "error",
          "ename": "SyntaxError",
          "evalue": "invalid syntax (3031054964.py, line 4)",
          "traceback": [
            "\u001b[1;36m  Input \u001b[1;32mIn [1]\u001b[1;36m\u001b[0m\n\u001b[1;33m    secret_word = #your word\u001b[0m\n\u001b[1;37m                  ^\u001b[0m\n\u001b[1;31mSyntaxError\u001b[0m\u001b[1;31m:\u001b[0m invalid syntax\n"
          ]
        }
      ],
      "metadata": {
        "colab": {
          "base_uri": "https://localhost:8080/"
        },
        "id": "4CUyggK-T7tc",
        "outputId": "c2631659-be17-41cb-b972-9df0e6747017"
      }
    },
    {
      "cell_type": "code",
      "execution_count": null,
      "source": [],
      "outputs": [],
      "metadata": {
        "id": "TqnDrEDyUHud"
      }
    }
  ]
}